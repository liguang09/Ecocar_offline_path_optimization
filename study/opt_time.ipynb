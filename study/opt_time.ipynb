{
 "cells": [
  {
   "cell_type": "code",
   "execution_count": 2,
   "metadata": {
    "collapsed": true
   },
   "outputs": [],
   "source": [
    "import casadi as ca\n",
    "import numpy as np\n",
    "import math\n",
    "import os"
   ]
  },
  {
   "cell_type": "markdown",
   "source": [
    "### Import track data"
   ],
   "metadata": {
    "collapsed": false,
    "pycharm": {
     "name": "#%% md\n"
    }
   }
  },
  {
   "cell_type": "code",
   "execution_count": 4,
   "outputs": [],
   "source": [
    "file_paths = {\"veh_params_file\": \"racecar.ini\"}\n",
    "#file_paths[\"module\"] = os.path.dirname(os.path.abspath(__file__))\n",
    "file_paths[\"module\"] = globals()['_dh'][0]\n",
    "file_paths[\"track_name\"] = \"london_track\"\n",
    "file_paths[\"track_file\"] = os.path.join(file_paths[\"module\"], \"track\", file_paths[\"track_name\"] + \".csv\")\n",
    "\n",
    "track_data_csv = np.loadtxt(file_paths[\"track_file\"], comments='#', delimiter=',')\n",
    "\n",
    "centerline = track_data_csv[:, 0:2]\n",
    "w_r2c = track_data_csv[:, 2]        # right to center distance\n",
    "w_l2c = track_data_csv[:, 3]        # left to center distance\n",
    "\n",
    "laps= 1\n",
    "centerline= np.tile(centerline, (laps,1))\n",
    "w_r2c= np.tile(w_r2c,laps)\n",
    "w_l2c= np.tile(w_l2c,laps)\n",
    "\n",
    "track_ref= np.column_stack((centerline,w_r2c,w_l2c))\n",
    "\n",
    "kappa = ca.interpolant('kappa', 'linear', [track_ref.shape[0]], track_ref[:, 0])\n",
    "\n",
    "# Consider reverse running\n",
    "reverse: bool = False\n",
    "if reverse:\n",
    "    track_ref= np.flipud(track_ref)"
   ],
   "metadata": {
    "collapsed": false,
    "pycharm": {
     "name": "#%%\n"
    }
   }
  },
  {
   "cell_type": "markdown",
   "source": [
    "### Direct Gauss_Legendre Collocation & Lagrange polynomials"
   ],
   "metadata": {
    "collapsed": false,
    "pycharm": {
     "name": "#%% md\n"
    }
   }
  },
  {
   "cell_type": "code",
   "execution_count": null,
   "outputs": [],
   "source": [
    "d=3\n",
    "collocate_points= np.append(0, ca.collocation_points(d, 'legendre'))\n",
    "C= np.zeros((d+1, d+1))\n",
    "D= np.zeros(d+1)\n",
    "B= np.zeros(d+1)\n",
    "\n",
    "for i in range (d+1):\n",
    "    p= np.poly1d([1])\n",
    "    for j in range (d+1):\n",
    "        if j != i:\n",
    "            p *= np.poly1d([1, -collocate_points[j]])/ (collocate_points[i]- collocate_points[j])\n",
    "\n",
    "    D[i]= p(1.0)\n",
    "\n",
    "    dp= np.polyder(p)\n",
    "    for j in range (d+1):\n",
    "        C[i,j]= dp(collocate_points[j])\n",
    "\n",
    "    intp= np.polyint(p)\n",
    "    B[i]= intp(1.0)\n"
   ],
   "metadata": {
    "collapsed": false,
    "pycharm": {
     "name": "#%%\n"
    }
   }
  },
  {
   "cell_type": "markdown",
   "source": [
    "### Declare states and control variables"
   ],
   "metadata": {
    "collapsed": false,
    "pycharm": {
     "name": "#%% md\n"
    }
   }
  },
  {
   "cell_type": "code",
   "execution_count": null,
   "outputs": [],
   "source": [
    "# States variables\n",
    "v= ca.SX.sym('v')               #velocity\n",
    "beta= ca.SX.sym('beta')         #slip angle\n",
    "omega= ca.SX.sym('omega')       #yaw rate\n",
    "n = ca.SX.sym('n')              #lateral distance to ref line (left:+)\n",
    "xi = ca.SX.sym('xi')            #relative angle to tangent on ref line\n",
    "x = ca.vertcat(v, beta, omega, n, xi)\n",
    "\n",
    "# Control variables\n",
    "delta= ca.SX.sym('delta')\n",
    "F_drive= ca.SX.sym('F_drive')\n",
    "F_brake= ca.SX.sym('F_brake')\n",
    "gamma_y= ca.SX.sym('gamma_y')\n",
    "u= ca.vertcat(delta, F_drive, F_brake, gamma_y)"
   ],
   "metadata": {
    "collapsed": false,
    "pycharm": {
     "name": "#%%\n"
    }
   }
  },
  {
   "cell_type": "markdown",
   "source": [
    "### Define parameters"
   ],
   "metadata": {
    "collapsed": false,
    "pycharm": {
     "name": "#%% md\n"
    }
   }
  },
  {
   "cell_type": "code",
   "execution_count": null,
   "outputs": [],
   "source": [
    "# parameters\n",
    "veh= {\"wheelbase_front\": 1.6,\n",
    "      \"wheelbase_rear\": 1.4,\n",
    "      \"wheelbase\": 3,\n",
    "      \"twf\": 1.6,\n",
    "      \"twr\": 1.6,\n",
    "      \"cog_z\": 0.38,\n",
    "      \"J_z\": 1200.0,\n",
    "      \"liftcoeff_front\": 0.45,\n",
    "      \"liftcoeff_rear\": 0.75,\n",
    "      \"k_brake\": 0.6,\n",
    "      \"k_drive\": 0.0,\n",
    "      \"k_roll\": 0.5,\n",
    "      \"t_delta\": 0.2,\n",
    "      \"t_drive\": 0.05,\n",
    "      \"t_brake\": 0.05,\n",
    "      \"power_max\": 230000.0,\n",
    "      \"f_drive_max\": 7000.0,\n",
    "      \"f_brake_max\": 20000.0,\n",
    "      \"delta_max\": 0.26,    #15deg\n",
    "      \"g\": 9.8,\n",
    "      \"mass\": 1200,\n",
    "      \"v_max\": 25,\n",
    "      \"dragcoeff\": 0.75}\n",
    "\n",
    "tire= {\"c_roll\": 0.013,\n",
    "       \"F_z0\": 3000.0,\n",
    "       \"B_f\": 10.0,\n",
    "       \"C_f\": 2.5,\n",
    "       \"eps_f\": -0.1,\n",
    "       \"E_f\": 1.0,\n",
    "       \"B_r\": 10.0,\n",
    "       \"C_r\": 2.5,\n",
    "       \"eps_r\": -0.1,\n",
    "       \"E_r\": 1.0,\n",
    "       \"mu\": 1.0}\n",
    "\n",
    "# scaling the states & control variables\n",
    "v_s= v* 1.0\n",
    "beta_s= beta* 1.0\n",
    "omega_s= omega* 1.0\n",
    "n_s= n* 1.0\n",
    "xi_s= xi* 1.0\n",
    "delta_s= delta* 1.0\n",
    "F_drive_s= F_drive* 1.0\n",
    "F_brake_s= F_brake* 1.0\n",
    "gamma_y_s= gamma_y* 1.0"
   ],
   "metadata": {
    "collapsed": false,
    "pycharm": {
     "name": "#%%\n"
    }
   }
  },
  {
   "cell_type": "markdown",
   "source": [
    "### Construct state equations"
   ],
   "metadata": {
    "collapsed": false,
    "pycharm": {
     "name": "#%% md\n"
    }
   }
  },
  {
   "cell_type": "code",
   "execution_count": null,
   "outputs": [],
   "source": [
    "# rolling resistance\n",
    "F_xroll_f = 0.5 * tire[\"c_roll\"] * veh[\"mass\"]* veh[\"g\"] * veh[\"wheelbase_front\"] / veh[\"wheelbase\"]\n",
    "F_xroll_r = 0.5 * tire[\"c_roll\"] * veh[\"mass\"]* veh[\"g\"] * veh[\"wheelbase_rear\"] / veh[\"wheelbase\"]\n",
    "F_xroll= tire[\"c_roll\"]* veh[\"mass\"]* veh[\"g\"]\n",
    "\n",
    "# drag force\n",
    "F_xdrag= veh[\"dragcoeff\"]* math.pow(v_s, 2)\n",
    "\n",
    "# Longitudinal tire force F_x\n",
    "F_x_fl= 0.5* veh[\"k_drive\"]* F_drive_s+ 0.5* veh[\"k_brake\"]* F_brake_s- F_xroll_f\n",
    "F_x_fr= F_x_fl\n",
    "F_x_rl= 0.5* (1- veh[\"k_drive\"])* F_drive_s+ 0.5* (1- veh[\"k_brake\"])* F_brake_s- F_xroll_r\n",
    "F_x_rr= F_x_rl\n",
    "\n",
    "# static normal tire forces\n",
    "F_zstat_f= 0.5 * veh[\"mass\"] * veh[\"g\"] * veh[\"wheelbase_front\"] / veh[\"wheelbase\"]\n",
    "F_zstat_r= 0.5 * veh[\"mass\"] * veh[\"g\"] * veh[\"wheelbase_rear\"] / veh[\"wheelbase\"]\n",
    "\n",
    "# dynamic normal tire force\n",
    "F_zlift_f = 0.5* veh[\"liftcoeff_front\"]* math.pow(v_s, 2)\n",
    "F_zlift_r = 0.5* veh[\"liftcoeff_rear\"]* math.pow(v_s, 2)\n",
    "\n",
    "# load transfers\n",
    "F_zloadtrans_fl= -0.5* veh[\"cog_z\"]/ veh[\"wheelbase\"]* (F_drive_s+ F_brake_s- F_xdrag- F_xroll)- veh[\"k_roll\"]* gamma_y_s\n",
    "F_zloadtrans_fr= -0.5* veh[\"cog_z\"]/ veh[\"wheelbase\"]* (F_drive_s+ F_brake_s- F_xdrag- F_xroll)+ veh[\"k_roll\"]* gamma_y_s\n",
    "F_zloadtrans_rl= -0.5* veh[\"cog_z\"]/ veh[\"wheelbase\"]* (F_drive_s+ F_brake_s- F_xdrag- F_xroll)- (1- veh[\"k_roll\"])* gamma_y_s\n",
    "F_zloadtrans_rr= -0.5* veh[\"cog_z\"]/ veh[\"wheelbase\"]* (F_drive_s+ F_brake_s- F_xdrag- F_xroll)+ (1- veh[\"k_roll\"])* gamma_y_s\n",
    "\n",
    "F_z_fl= F_zstat_f+ F_zlift_f+ F_zloadtrans_fl\n",
    "F_z_fr= F_zstat_f+ F_zlift_f+ F_zloadtrans_fr\n",
    "F_z_rl= F_zstat_r+ F_zlift_r+ F_zloadtrans_rl\n",
    "F_z_rr= F_zstat_r+ F_zlift_r+ F_zloadtrans_rr\n",
    "\n",
    "# sideslip angle\n",
    "alpah_fl= delta_s- ca.atan((veh[\"wheelbase_front\"]*omega_s+v_s* ca.sin(beta_s))/\n",
    "                           (v_s*ca.cos(beta_s)- 0.5*veh[\"twf\"]*omega_s))\n",
    "alpah_fr= delta_s- ca.atan((veh[\"wheelbase_front\"]*omega_s+v_s* ca.sin(beta_s))/\n",
    "                           (v_s*ca.cos(beta_s)+ 0.5*veh[\"twf\"]*omega_s))\n",
    "alpah_rl= ca.atan((veh[\"wheelbase_rear\"]*omega_s- v_s* ca.sin(beta_s))/\n",
    "                  (v_s*ca.cos(beta_s)- 0.5*veh[\"twr\"]*omega_s))\n",
    "alpah_rr= ca.atan((veh[\"wheelbase_rear\"]*omega_s- v_s* ca.sin(beta_s))/\n",
    "                  (v_s*ca.cos(beta_s)+ 0.5*veh[\"twr\"]*omega_s))\n",
    "\n",
    "# Lateral tire force F_y\n",
    "F_y_fl= tire[\"mu\"]* F_z_fl* (1+ tire[\"eps_f\"]* F_z_fl/ tire[\"F_z0\"])\\\n",
    "        * ca.sin(tire[\"C_f\"]* ca.atan(tire[\"B_f\"]* alpah_fl-\n",
    "                                      tire[\"E_f\"]*(tire[\"B_f\"]* alpah_fl- ca.atan(tire[\"B_f\"]* alpah_fl))))\n",
    "F_y_fr= tire[\"mu\"]* F_z_fr* (1+ tire[\"eps_f\"]* F_z_fr/ tire[\"F_z0\"])\\\n",
    "        * ca.sin(tire[\"C_f\"]* ca.atan(tire[\"B_f\"]* alpah_fr-\n",
    "                                      tire[\"E_f\"]*(tire[\"B_f\"]* alpah_fr- ca.atan(tire[\"B_f\"]* alpah_fr))))\n",
    "F_y_rl= tire[\"mu\"]* F_z_rl* (1+ tire[\"eps_f\"]* F_z_rl/ tire[\"F_z0\"])\\\n",
    "        * ca.sin(tire[\"C_f\"]* ca.atan(tire[\"B_f\"]* alpah_rl-\n",
    "                                      tire[\"E_f\"]*(tire[\"B_f\"]* alpah_rl- ca.atan(tire[\"B_f\"]* alpah_rl))))\n",
    "F_y_rr= tire[\"mu\"]* F_z_rr* (1+ tire[\"eps_f\"]* F_z_rr/ tire[\"F_z0\"])\\\n",
    "        * ca.sin(tire[\"C_f\"]* ca.atan(tire[\"B_f\"]* alpah_rr-\n",
    "                                      tire[\"E_f\"]*(tire[\"B_f\"]* alpah_rr- ca.atan(tire[\"B_f\"]* alpah_rr))))\n",
    "\n",
    "# Acceleration\n",
    "ax = (F_x_r + F_x_r + (F_x_f + F_x_f) * ca.cos(delta) - (F_y_fl + F_y_fr) * ca.sin(delta)\n",
    "          - veh[\"dragcoeff\"] * v ** 2) / veh[\"mass\"]\n",
    "ay = ((F_x_f + F_x_f) * ca.sin(delta) + F_y_rl + F_y_rr + (F_y_fl + F_y_fr) * ca.cos(delta)) / veh[\"mass\"]\n",
    "\n",
    "# Derivatives\n",
    "k_curv= ca.SX.sym(\"k_curv\")\n",
    "\n",
    "SF= (1.0- n*k_curv)/(v* ca.cos(xi_s+ beta_s))\n",
    "dv= (SF/veh[\"mass\"])* ((F_x_r+ F_x_r)* ca.cos(beta_s)+ (F_x_r+ F_x_r)* ca.cos(delta_s- beta_s)+\n",
    "                       (F_y_rl+ F_y_rr)* ca.sin(beta_s)- (F_y_fl+ F_y_rr)* ca.sin(delta_s- beta_s)-\n",
    "                       F_xdrag* ca.cos(beta_s))\n",
    "dbeta= SF* (-omega_s+ 1/(veh[\"mass\"]* v_s)* (-(F_x_r+ F_x_r)* ca.sin(beta_s)+ (F_x_f+ F_x_f)* ca.sin(delta_s-beta_s)+\n",
    "                                             (F_y_rl+ F_y_rr)* ca.cos(beta_s)+ (F_y_fl+ F_y_fr)* ca.cos(delta_s-beta_s)+\n",
    "                                             F_xdrag* ca.sin(beta_s)))\n",
    "domega= SF/veh[\"J_z\"]* ((F_x_r- F_x_r)* veh[\"twr\"]/2- (F_y_rl+ F_y_rr)* veh[\"wheelbase_rear\"]+\n",
    "                        ((F_x_f- F_x_f)* ca.cos(delta_s)+ (F_y_fl- F_y_fr)* ca.sin(delta_s))*veh[\"twf\"]/2+\n",
    "                        ((F_y_fl+ F_y_fr)* ca.cos(delta_s)+ (F_x_f+ F_x_f)* ca.sin(delta_s))*veh[\"wheelbase_front\"])\n",
    "dn= SF* v_s* ca.sin(xi_s+ beta_s)\n",
    "dxi= SF* omega_s- k_curv\n",
    "\n",
    "dx= ca.vertcat(dv, dbeta, domega, dn, dxi)"
   ],
   "metadata": {
    "collapsed": false,
    "pycharm": {
     "name": "#%%\n"
    }
   }
  },
  {
   "cell_type": "markdown",
   "source": [
    "###"
   ],
   "metadata": {
    "collapsed": false,
    "pycharm": {
     "name": "#%% md\n"
    }
   }
  },
  {
   "cell_type": "code",
   "execution_count": null,
   "outputs": [],
   "source": [
    "# continuous time dynamics\n",
    "f_dyn = ca.Function('f_dyn', [x, u, k_curv], [dx, SF], ['x', 'u', 'k_curv'], ['dx', 'SF'])\n",
    "\n",
    "# longitudinal tire forces [N]\n",
    "f_Fx = ca.Function('f_Fx', [x, u], [F_x_fl, F_x_fr, F_x_rl, F_x_rr],\n",
    "                   ['x', 'u'], ['F_x_f', 'F_x_r'])\n",
    "# lateral tire forces [N]\n",
    "f_Fy = ca.Function('f_Fy', [x, u], [F_y_fl, F_y_fr, F_y_rl, F_y_rr],\n",
    "                   ['x', 'u'], ['F_y_fl', 'F_y_fr', 'F_y_rl', 'F_y_rr'])\n",
    "# vertical tire forces [N]\n",
    "f_Fz = ca.Function('f_Fz', [x, u], [F_z_fl, F_z_fr, F_z_rl, F_z_rr],\n",
    "                   ['x', 'u'], ['F_z_fl', 'F_z_fr', 'F_z_rl', 'F_z_rr'])\n",
    "\n",
    "# longitudinal and lateral acceleration [m/s²]\n",
    "f_a = ca.Function('f_a', [x, u], [ax, ay], ['x', 'u'], ['ax', 'ay'])"
   ],
   "metadata": {
    "collapsed": false,
    "pycharm": {
     "name": "#%%\n"
    }
   }
  },
  {
   "cell_type": "markdown",
   "source": [
    "### Specify boundaries"
   ],
   "metadata": {
    "collapsed": false,
    "pycharm": {
     "name": "#%% md\n"
    }
   }
  },
  {
   "cell_type": "code",
   "execution_count": null,
   "outputs": [],
   "source": [
    "# Control Boundaries\n",
    "delta_min= -veh[\"delta_max\"]\n",
    "delta_max= veh[\"delta_max\"]\n",
    "F_drive_min= 0.0\n",
    "F_drive_max= veh[\"f_drive_max\"]\n",
    "F_brake_min= 0.0\n",
    "F_brake_max= - veh[\"f_brake_max\"]\n",
    "gamma_y_min= -np.inf\n",
    "gamma_y_max= np.inf\n",
    "\n",
    "#State Boundaries\n",
    "v_min= 0.1\n",
    "v_max= veh[\"v_max\"]\n",
    "beta_min= -np.pi/2\n",
    "beta_max= np.pi/2\n",
    "omega_min= -np.pi/2\n",
    "omega_max= np.pi/2\n",
    "xi_min= -np.pi/2\n",
    "xi_max= np.pi/2\n",
    "n_min= -w_r2c(0)+ 3.4/2\n",
    "n_max= w_l2c(0)- 3.4/2"
   ],
   "metadata": {
    "collapsed": false,
    "pycharm": {
     "name": "#%%\n"
    }
   }
  },
  {
   "cell_type": "markdown",
   "source": [
    "### Initialize empty NLP"
   ],
   "metadata": {
    "collapsed": false,
    "pycharm": {
     "name": "#%% md\n"
    }
   }
  },
  {
   "cell_type": "code",
   "execution_count": null,
   "outputs": [],
   "source": [
    "num_x= x.size()[0]\n",
    "num_u= u.size()[0]\n",
    "\n",
    "J= 0\n",
    "w=[]\n",
    "w0= []\n",
    "min_w= []\n",
    "max_w= []\n",
    "g=[]\n",
    "min_g= []\n",
    "max_g= []\n",
    "\n",
    "x_opt= []\n",
    "u_opt= []\n",
    "\n",
    "SF_opt= []\n",
    "\n",
    "Xk = ca.MX.sym('X0', num_x)\n",
    "w.append(Xk)\n",
    "min_w.append([v_min, beta_min, omega_min, n_min, xi_min])\n",
    "max_w.append([v_max, beta_max, omega_max, n_max, xi_max])\n",
    "\n",
    "w0.append([0.0]*num_x)\n",
    "x_opt.append(Xk)"
   ],
   "metadata": {
    "collapsed": false,
    "pycharm": {
     "name": "#%%\n"
    }
   }
  },
  {
   "cell_type": "markdown",
   "source": [
    "### Start to loop each segment"
   ],
   "metadata": {
    "collapsed": false,
    "pycharm": {
     "name": "#%% md\n"
    }
   }
  },
  {
   "cell_type": "code",
   "execution_count": 9,
   "outputs": [
    {
     "ename": "NameError",
     "evalue": "name 'num_u' is not defined",
     "output_type": "error",
     "traceback": [
      "\u001B[0;31m---------------------------------------------------------------------------\u001B[0m",
      "\u001B[0;31mNameError\u001B[0m                                 Traceback (most recent call last)",
      "\u001B[0;32m<ipython-input-9-90178da7f066>\u001B[0m in \u001B[0;36m<module>\u001B[0;34m\u001B[0m\n\u001B[1;32m      2\u001B[0m \u001B[0mstep\u001B[0m\u001B[0;34m=\u001B[0m \u001B[0;36m3\u001B[0m\u001B[0;34m\u001B[0m\u001B[0;34m\u001B[0m\u001B[0m\n\u001B[1;32m      3\u001B[0m \u001B[0;32mfor\u001B[0m \u001B[0mk\u001B[0m \u001B[0;32min\u001B[0m \u001B[0mrange\u001B[0m \u001B[0;34m(\u001B[0m\u001B[0mnum_seg\u001B[0m\u001B[0;34m)\u001B[0m\u001B[0;34m:\u001B[0m\u001B[0;34m\u001B[0m\u001B[0;34m\u001B[0m\u001B[0m\n\u001B[0;32m----> 4\u001B[0;31m     \u001B[0mUk\u001B[0m\u001B[0;34m=\u001B[0m \u001B[0mca\u001B[0m\u001B[0;34m.\u001B[0m\u001B[0mMX\u001B[0m\u001B[0;34m.\u001B[0m\u001B[0msym\u001B[0m\u001B[0;34m(\u001B[0m\u001B[0;34m'U_'\u001B[0m\u001B[0;34m+\u001B[0m \u001B[0mstr\u001B[0m\u001B[0;34m(\u001B[0m\u001B[0mk\u001B[0m\u001B[0;34m)\u001B[0m\u001B[0;34m,\u001B[0m \u001B[0mnum_u\u001B[0m\u001B[0;34m)\u001B[0m\u001B[0;34m\u001B[0m\u001B[0;34m\u001B[0m\u001B[0m\n\u001B[0m\u001B[1;32m      5\u001B[0m     \u001B[0mw\u001B[0m\u001B[0;34m.\u001B[0m\u001B[0mappend\u001B[0m\u001B[0;34m(\u001B[0m\u001B[0mUk\u001B[0m\u001B[0;34m)\u001B[0m\u001B[0;34m\u001B[0m\u001B[0;34m\u001B[0m\u001B[0m\n\u001B[1;32m      6\u001B[0m     \u001B[0mmin_w\u001B[0m\u001B[0;34m.\u001B[0m\u001B[0mappend\u001B[0m\u001B[0;34m(\u001B[0m\u001B[0;34m[\u001B[0m\u001B[0mdelta_min\u001B[0m\u001B[0;34m,\u001B[0m \u001B[0mF_drive_min\u001B[0m\u001B[0;34m,\u001B[0m \u001B[0mF_brake_min\u001B[0m\u001B[0;34m,\u001B[0m \u001B[0mgamma_y_min\u001B[0m\u001B[0;34m]\u001B[0m\u001B[0;34m)\u001B[0m\u001B[0;34m\u001B[0m\u001B[0;34m\u001B[0m\u001B[0m\n",
      "\u001B[0;31mNameError\u001B[0m: name 'num_u' is not defined"
     ]
    }
   ],
   "source": [
    "num_seg= track_ref.shape[0]\n",
    "step= 3\n",
    "for k in range (num_seg):\n",
    "    Uk= ca.MX.sym('U_'+ str(k), num_u)\n",
    "    w.append(Uk)\n",
    "    min_w.append([delta_min, F_drive_min, F_brake_min, gamma_y_min])\n",
    "    max_w.append([delta_max, F_drive_max, F_brake_max, gamma_y_max])\n",
    "    w0.append([0.0]* num_u)\n",
    "\n",
    "    Xc= []\n",
    "    for j in range (d):\n",
    "        Xkj= ca.Mx.sym('X_'+ str(k)+ '_'+ str(j), num_x)\n",
    "        Xc.append(Xkj)\n",
    "        w.append(Xkj)\n",
    "        min_w.append([-np.inf]* num_x)\n",
    "        max_w.append([np.inf]* num_x)\n",
    "\n",
    "        w0.append([0.0]* num_x)\n",
    "\n",
    "    XK_end= D[0]* Xk\n",
    "\n",
    "    for j in range(1, d+1):\n",
    "        xp= C[0, j]*Xk\n",
    "        for r in range(d):\n",
    "            xp += C[r+1, j]* Xc[r]\n",
    "\n",
    "        kappa_colloc= kappa(k+collocate_points[j])\n",
    "\n",
    "        fj, qj= f_dyn(Xc[j-1], Uk, kappa_colloc)\n",
    "        g.append(step*fj- xp)\n",
    "        min_g.append([0.0]* num_x)\n",
    "        max_g.append([0.0]* num_x)\n",
    "        \n",
    "        Xk_end= Xk_end+ D[j]* Xc[j-1]\n",
    "        J= J+ B[j]* qj* step\n",
    "        \n",
    "        SF_opt.append(B[j]* qj* step)\n",
    "        \n",
    "        #update states in next step\n",
    "        Xk = ca.MX.sym('X_'+ str(k + 1), num_x)\n",
    "        w.append(Xk)\n",
    "        \n",
    "        n_min= -w_r2c(k+1)+ 3.4/2\n",
    "        n_max= w_l2c(k+1)- 3.4/2\n",
    "        min_w.append([v_min, beta_min, omega_min, n_min, xi_min])\n",
    "        max_w.append([v_max, beta_max, omega_max, n_max, xi_max])\n",
    "        w0.append([0.0]*num_x)\n",
    "        \n",
    "        g.append(Xk_end- Xk)\n",
    "        min_g([0.0]* num_x)\n",
    "        max_g([0.0]* num_x)\n",
    "        \n",
    "        \n",
    "\n",
    "\n",
    "\n",
    "\n",
    "\n"
   ],
   "metadata": {
    "collapsed": false,
    "pycharm": {
     "name": "#%%\n"
    }
   }
  }
 ],
 "metadata": {
  "kernelspec": {
   "name": "python3",
   "language": "python",
   "display_name": "Python 3"
  },
  "language_info": {
   "codemirror_mode": {
    "name": "ipython",
    "version": 2
   },
   "file_extension": ".py",
   "mimetype": "text/x-python",
   "name": "python",
   "nbconvert_exporter": "python",
   "pygments_lexer": "ipython2",
   "version": "2.7.6"
  }
 },
 "nbformat": 4,
 "nbformat_minor": 0
}