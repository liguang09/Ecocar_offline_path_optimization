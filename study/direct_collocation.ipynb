{
 "cells": [
  {
   "cell_type": "markdown",
   "metadata": {
    "collapsed": true,
    "pycharm": {
     "name": "#%% md\n"
    }
   },
   "source": [
    "minimize $\\int^{T}_{t=0} (x_0^2+ x_1^2+u^2) dt$\n",
    "\n",
    "subject to:\n",
    "\\begin{equation}\n",
    "\\left\\{\n",
    "        \\begin{array}{lr}\n",
    "            \\dot{x_0}= (1-x_1^2)x_0-x_1+u, &  \\\\\n",
    "            \\dot{x_1}= x_0, & 0 \\leq t \\leq T\\\\\n",
    "            -1.0 \\leq u \\leq 1.0, & x_1 \\ge -0.25 \\\\\n",
    "            x_0(0)=0; \\quad x_1(0)=1\n",
    "        \\end{array}\n",
    "\\right.\n",
    "\\end{equation}"
   ]
  },
  {
   "cell_type": "code",
   "source": [
    "import casadi as ca\n",
    "import numpy as np\n",
    "import matplotlib.pyplot as plt"
   ],
   "metadata": {
    "collapsed": false,
    "pycharm": {
     "name": "#%%\n"
    }
   },
   "execution_count": 1,
   "outputs": []
  },
  {
   "cell_type": "markdown",
   "source": [
    "1. use Gauss Legendre collocation to insert discrete points. assume $d=3$ so $t_{k,d}= [t_{k, 1}, t_{k,2}, t_{k,3}]$ are inserted into $[t_k, t_{k+1}]$\n",
    "2. the trajectory of $[t_k, t_{k+1}]$ is approximated by a Lagrange polynomials\n",
    "\n",
    "    $P_k= \\sum_{k=0}^{N-1} p_{k,i} l_{k,i}(t)$, $\\quad$ $l_{k,i}= \\prod_{j=0, j\\neq i}^{d} \\frac{t-t_{k,j}}{t_{k,i}- t_{k,j}}$\n",
    "\n",
    "3. $P_k$ should satisfy initial condition: $P_k(t_k)= x_k$\n",
    "4. The collocation points satisfy state space equations, this converts into a ODE matrix $C$\n",
    "5. $P_k$ meets the end states\n"
   ],
   "metadata": {
    "collapsed": false,
    "pycharm": {
     "name": "#%% md\n"
    }
   }
  },
  {
   "cell_type": "code",
   "execution_count": 2,
   "outputs": [],
   "source": [
    "d=3                     # degree of interpolating polynomial\n",
    "collocate_points= np.append(0, ca.collocation_points(d,'legendre'))        #get collocation points\n",
    "\n",
    "B= np.zeros(d+1)            # Coefficients of the quadrature function\n",
    "C= np.zeros((d+1, d+1))     # Coefficients of the collocation equation\n",
    "D= np.zeros(d+1)            # Coefficients of the continuity equation\n",
    "\n",
    "# Construct Lagrange polynomials to get the polynomial basis at the collocation point\n",
    "for i in range (d+1):\n",
    "    p= np.poly1d([1])\n",
    "    for j in range (d+1):\n",
    "        if j != i:\n",
    "            p *= np.poly1d([1, -collocate_points[j]])/ (collocate_points[i]- collocate_points[j])\n",
    "\n",
    "    #Evaluate the polynomial at the final time to get the coefficients of the continuity equation\n",
    "    D[i]= p(1.0)\n",
    "\n",
    "    # Evaluate the time derivative of the polynomial at all collocation points to get the coefficients of the continuity equation\n",
    "    dp= np.polyder(p)\n",
    "    for j in range (d+1):\n",
    "        C[i,j]= dp(collocate_points[j])\n",
    "\n",
    "    # Evaluate the integral of the polynomial to get the coefficients of the quadrature function\n",
    "    intp= np.polyint(p)\n",
    "    B[i]= intp(1.0)"
   ],
   "metadata": {
    "collapsed": false,
    "pycharm": {
     "name": "#%%\n"
    }
   }
  },
  {
   "cell_type": "markdown",
   "source": [
    "$D= [L_1(1.0), L_2(1.0), L_3(1.0), L_4(1.0)]$\n",
    "\n",
    "$C= \\left[\n",
    "\\begin{matrix}\n",
    "    \\dot{L_0}(\\tau_0) & \\dot{L_0}(\\tau_1) & \\dot{L_0}(\\tau_2) & \\dot{L_0}(\\tau_3)\\\\\n",
    "    \\dot{L_1}(\\tau_0) & \\dot{L_1}(\\tau_1) & \\dot{L_1}(\\tau_2) & \\dot{L_1}(\\tau_3)\\\\\n",
    "    \\dot{L_2}(\\tau_0) & \\dot{L_2}(\\tau_1) & \\dot{L_2}(\\tau_2) & \\dot{L_2}(\\tau_3)\\\\\n",
    "    \\dot{L_3}(\\tau_0) & \\dot{L_3}(\\tau_1) & \\dot{L_3}(\\tau_2) & \\dot{L_3}(\\tau_3)\\\\\n",
    "\\end{matrix}\n",
    "\\right]$\n",
    "\n",
    "$B= [\\int L_1(1.0), \\int L_2(1.0), \\int L_3(1.0), \\int L_4(1.0)]$"
   ],
   "metadata": {
    "collapsed": false
   }
  },
  {
   "cell_type": "code",
   "execution_count": 3,
   "outputs": [],
   "source": [
    "T= 10\n",
    "N= 20                   # number of control intervals\n",
    "h= T/N\n",
    "\n",
    "# Declare model variables\n",
    "x1 = ca.SX.sym('x1')\n",
    "x2 = ca.SX.sym('x2')\n",
    "x = ca.vertcat(x1, x2)\n",
    "u = ca.SX.sym('u')\n",
    "\n",
    "# Model states, state equations, objective function\n",
    "dx= ca.vertcat((1-x2**2)*x1 - x2 + u, x1)\n",
    "L= x1**2 + x2**2 + u**2\n",
    "f= ca.Function('f', [x, u], [dx, L], ['x', 'u'], ['dx', 'L'])       # Continuous time dynamics"
   ],
   "metadata": {
    "collapsed": false,
    "pycharm": {
     "name": "#%%\n"
    }
   }
  },
  {
   "cell_type": "code",
   "execution_count": 4,
   "outputs": [],
   "source": [
    "# Start with an empty NLP\n",
    "w=[]\n",
    "w0= []\n",
    "lbw= []\n",
    "ubw= []\n",
    "lbg= []\n",
    "ubg= []\n",
    "J= 0\n",
    "g=[]\n",
    "x_plot = []\n",
    "u_plot = []\n",
    "\n",
    "Xk= ca.MX.sym('X0', x.size()[0])\n",
    "w.append(Xk)\n",
    "lbw.append([0, 1])\n",
    "ubw.append([0, 1])\n",
    "w0.append([0, 1])\n",
    "x_plot.append(Xk)"
   ],
   "metadata": {
    "collapsed": false,
    "pycharm": {
     "name": "#%%\n"
    }
   }
  },
  {
   "cell_type": "code",
   "execution_count": 5,
   "outputs": [],
   "source": [
    "# Start to loop each segment\n",
    "for k in range (N):\n",
    "    Uk= ca.MX.sym('U_'+ str(k))\n",
    "    w.append(Uk)\n",
    "    lbw.append([-1])\n",
    "    ubw.append([1])\n",
    "    w0.append([0])\n",
    "    u_plot.append(Uk)\n",
    "\n",
    "    Xc= []\n",
    "    for j in range (d):\n",
    "        Xkj= ca.MX.sym('X_'+ str(k)+ '_'+ str(j), x.size()[0])\n",
    "        Xc.append(Xkj)\n",
    "        w.append(Xkj)\n",
    "        lbw.append([-0.25, -np.inf])\n",
    "        ubw.append([np.inf, np.inf])\n",
    "        w0.append([0, 0])\n",
    "\n",
    "    Xk_end= D[0]*Xk\n",
    "\n",
    "    for j in range (1, d+1):\n",
    "        xp= C[0, j]*Xk\n",
    "        for r in range(d):\n",
    "            xp += C[r+1, j]* Xc[r]\n",
    "\n",
    "        fj, qj= f(Xc[j-1], Uk)\n",
    "        g.append(h*fj- xp)\n",
    "        lbg.append([0, 0])\n",
    "        ubg.append([0, 0])\n",
    "\n",
    "        Xk_end= Xk_end+ D[j]* Xc[j-1]\n",
    "        J= J+ B[j]* qj* h\n",
    "\n",
    "    Xk= ca.MX.sym('X_'+ str(k+1), 2)\n",
    "    w.append(Xk)\n",
    "    lbw.append([-0.25, -np.inf])\n",
    "    ubw.append([np.inf,  np.inf])\n",
    "    w0.append([0, 0])\n",
    "    x_plot.append(Xk)\n",
    "\n",
    "    g.append(Xk_end-Xk)\n",
    "    lbg.append([0, 0])\n",
    "    ubg.append([0, 0])"
   ],
   "metadata": {
    "collapsed": false,
    "pycharm": {
     "name": "#%%\n"
    }
   }
  },
  {
   "cell_type": "code",
   "execution_count": 6,
   "outputs": [
    {
     "name": "stdout",
     "output_type": "stream",
     "text": [
      "\n",
      "******************************************************************************\n",
      "This program contains Ipopt, a library for large-scale nonlinear optimization.\n",
      " Ipopt is released as open source code under the Eclipse Public License (EPL).\n",
      "         For more information visit http://projects.coin-or.org/Ipopt\n",
      "******************************************************************************\n",
      "\n",
      "This is Ipopt version 3.12.3, running with linear solver mumps.\n",
      "NOTE: Other linear solvers might be more efficient (see Ipopt documentation).\n",
      "\n",
      "Number of nonzeros in equality constraint Jacobian...:      852\n",
      "Number of nonzeros in inequality constraint Jacobian.:        0\n",
      "Number of nonzeros in Lagrangian Hessian.............:      200\n",
      "\n",
      "Total number of variables............................:      180\n",
      "                     variables with only lower bounds:       80\n",
      "                variables with lower and upper bounds:       20\n",
      "                     variables with only upper bounds:        0\n",
      "Total number of equality constraints.................:      160\n",
      "Total number of inequality constraints...............:        0\n",
      "        inequality constraints with only lower bounds:        0\n",
      "   inequality constraints with lower and upper bounds:        0\n",
      "        inequality constraints with only upper bounds:        0\n",
      "\n",
      "iter    objective    inf_pr   inf_du lg(mu)  ||d||  lg(rg) alpha_du alpha_pr  ls\n",
      "   0  0.0000000e+00 6.00e+00 8.95e-01  -1.0 0.00e+00    -  0.00e+00 0.00e+00   0\n",
      "   1  2.2045109e+00 1.66e+00 5.86e-01  -1.0 1.12e+00    -  4.91e-01 7.23e-01h  1\n",
      "   2  5.2476750e+00 1.41e-02 1.68e-01  -1.0 3.41e-01    -  9.46e-01 1.00e+00h  1\n",
      "   3  4.3121025e+00 1.02e-02 2.99e-01  -2.5 2.70e-01    -  8.23e-01 1.00e+00f  1\n",
      "   4  3.9443525e+00 1.67e-03 2.64e-03  -2.5 1.37e-01    -  1.00e+00 1.00e+00f  1\n",
      "   5  3.7980271e+00 2.57e-04 2.93e-02  -3.8 6.00e-02    -  8.11e-01 9.36e-01f  1\n",
      "   6  3.7854840e+00 1.24e-04 1.46e+00  -3.8 2.12e-02    -  1.00e+00 5.51e-01h  1\n",
      "   7  3.7793429e+00 3.16e-05 2.99e-01  -3.8 1.33e-02    -  9.27e-01 7.95e-01f  1\n",
      "   8  3.7791201e+00 1.26e-07 3.33e-05  -3.8 8.69e-03    -  1.00e+00 1.00e+00f  1\n",
      "   9  3.7776818e+00 2.99e-07 1.88e-03  -5.7 5.70e-03    -  8.94e-01 9.01e-01f  1\n",
      "iter    objective    inf_pr   inf_du lg(mu)  ||d||  lg(rg) alpha_du alpha_pr  ls\n",
      "  10  3.7774784e+00 9.51e-08 3.16e-02  -5.7 3.65e-03    -  1.00e+00 7.89e-01f  1\n",
      "  11  3.7774785e+00 1.07e-10 4.11e-02  -5.7 1.06e-04    -  8.11e-01 1.00e+00f  1\n",
      "  12  3.7774667e+00 8.92e-09 1.19e-06  -5.7 9.96e-04    -  1.00e+00 1.00e+00h  1\n",
      "  13  3.7774604e+00 4.02e-09 1.73e-02  -8.6 2.00e-04    -  9.04e-01 5.60e-01h  1\n",
      "  14  3.7774570e+00 7.96e-11 2.00e-02  -8.6 6.85e-05    -  8.12e-01 9.93e-01f  1\n",
      "  15  3.7774567e+00 3.33e-11 3.27e-04  -8.6 6.01e-05    -  9.75e-01 1.00e+00f  1\n",
      "  16  3.7774567e+00 4.19e-13 1.51e-11  -8.6 6.79e-06    -  1.00e+00 1.00e+00h  1\n",
      "\n",
      "Number of Iterations....: 16\n",
      "\n",
      "                                   (scaled)                 (unscaled)\n",
      "Objective...............:   3.7774566843106947e+00    3.7774566843106947e+00\n",
      "Dual infeasibility......:   1.5142526121891819e-11    1.5142526121891819e-11\n",
      "Constraint violation....:   4.1866510258614653e-13    4.1866510258614653e-13\n",
      "Complementarity.........:   2.6873262179508567e-09    2.6873262179508567e-09\n",
      "Overall NLP error.......:   2.6873262179508567e-09    2.6873262179508567e-09\n",
      "\n",
      "\n",
      "Number of objective function evaluations             = 17\n",
      "Number of objective gradient evaluations             = 17\n",
      "Number of equality constraint evaluations            = 17\n",
      "Number of inequality constraint evaluations          = 0\n",
      "Number of equality constraint Jacobian evaluations   = 17\n",
      "Number of inequality constraint Jacobian evaluations = 0\n",
      "Number of Lagrangian Hessian evaluations             = 16\n",
      "Total CPU secs in IPOPT (w/o function evaluations)   =      0.011\n",
      "Total CPU secs in NLP function evaluations           =      0.005\n",
      "\n",
      "EXIT: Optimal Solution Found.\n",
      "      solver  :   t_proc      (avg)   t_wall      (avg)    n_eval\n",
      "       nlp_f  | 297.00us ( 17.47us) 296.20us ( 17.42us)        17\n",
      "       nlp_g  | 740.00us ( 43.53us) 707.71us ( 41.63us)        17\n",
      "  nlp_grad_f  | 687.00us ( 38.17us) 614.94us ( 34.16us)        18\n",
      "  nlp_hess_l  |   1.01ms ( 63.25us)   1.02ms ( 63.61us)        16\n",
      "   nlp_jac_g  |   2.18ms (121.22us)   2.18ms (121.35us)        18\n",
      "       total  |  17.03ms ( 17.03ms)  15.51ms ( 15.51ms)         1\n"
     ]
    }
   ],
   "source": [
    "w= ca.vertcat(*w)\n",
    "g = ca.vertcat(*g)\n",
    "x_plot = ca.horzcat(*x_plot)\n",
    "u_plot = ca.horzcat(*u_plot)\n",
    "w0 = np.concatenate(w0)\n",
    "lbw = np.concatenate(lbw)\n",
    "ubw = np.concatenate(ubw)\n",
    "lbg = np.concatenate(lbg)\n",
    "ubg = np.concatenate(ubg)\n",
    "\n",
    "prob= {'f': J, 'x': w, 'g': g}\n",
    "solver= ca.nlpsol('solver', 'ipopt', prob)\n",
    "\n",
    "trajectories= ca.Function('trajectories', [w], [x_plot, u_plot], ['w'], ['x', 'u'])\n",
    "sol= solver(x0=w0, lbx=lbw, ubx=ubw, lbg=lbg, ubg=ubg)\n",
    "x_opt, u_opt = trajectories(sol['x'])\n",
    "x_opt = x_opt.full() # to numpy array\n",
    "u_opt = u_opt.full() # to numpy array"
   ],
   "metadata": {
    "collapsed": false,
    "pycharm": {
     "name": "#%%\n"
    }
   }
  },
  {
   "cell_type": "code",
   "execution_count": 7,
   "outputs": [
    {
     "data": {
      "text/plain": "<Figure size 432x288 with 1 Axes>",
      "image/png": "[encoded data removed]"
     },
     "metadata": {
      "needs_background": "light"
     },
     "output_type": "display_data"
    }
   ],
   "source": [
    "# Plot the result\n",
    "tgrid = np.linspace(0, T, N+1)\n",
    "plt.figure(1)\n",
    "plt.clf()\n",
    "plt.plot(tgrid, x_opt[0], '--')\n",
    "plt.plot(tgrid, x_opt[1], '-')\n",
    "plt.step(tgrid, np.append(np.nan, u_opt[0]), '-.')\n",
    "plt.xlabel('t')\n",
    "plt.legend(['x1','x2','u'])\n",
    "plt.grid()\n",
    "plt.show()"
   ],
   "metadata": {
    "collapsed": false,
    "pycharm": {
     "name": "#%%\n"
    }
   }
  }
 ],
 "metadata": {
  "kernelspec": {
   "display_name": "Python 3",
   "language": "python",
   "name": "python3"
  },
  "language_info": {
   "codemirror_mode": {
    "name": "ipython",
    "version": 2
   },
   "file_extension": ".py",
   "mimetype": "text/x-python",
   "name": "python",
   "nbconvert_exporter": "python",
   "pygments_lexer": "ipython2",
   "version": "2.7.6"
  }
 },
 "nbformat": 4,
 "nbformat_minor": 0
}