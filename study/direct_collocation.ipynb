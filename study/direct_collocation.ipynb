{
 "cells": [
  {
   "cell_type": "markdown",
   "metadata": {
    "collapsed": true,
    "pycharm": {
     "name": "#%% md\n"
    }
   },
   "source": [
    "minimize $\\int^{T}_{t=0} (x_0^2+ x_1^2+u^2) dt$\n",
    "\n",
    "subject to:\n",
    "\\begin{equation}\n",
    "\\left\\{\n",
    "        \\begin{array}{lr}\n",
    "            \\dot{x_0}= (1-x_1^2)x_0-x_1+u, &  \\\\\n",
    "            \\dot{x_1}= x_0, & 0 \\leq t \\leq T\\\\\n",
    "            -1.0 \\leq u \\leq 1.0, & x_1 \\ge -0.25 \\\\\n",
    "            x_0(0)=0; \\quad x_1(0)=1\n",
    "        \\end{array}\n",
    "\\right.\n",
    "\\end{equation}"
   ]
  },
  {
   "cell_type": "code",
   "source": [
    "import casadi as ca\n",
    "import numpy as np\n",
    "import matplotlib.pyplot as plt"
   ],
   "metadata": {
    "collapsed": false,
    "pycharm": {
     "name": "#%%\n"
    }
   },
   "execution_count": null,
   "outputs": []
  },
  {
   "cell_type": "markdown",
   "source": [
    "1. use Gauss Legendre collocation to insert discrete points. assume $d=3$ so $t_{k,d}= [t_{k, 1}, t_{k,2}, t_{k,3}]$ are inserted into $[t_k, t_{k+1}]$\n",
    "2. the trajectory of $[t_k, t_{k+1}]$ is approximated by a Lagrange polynomials\n",
    "\n",
    "    $P_k= \\sum_{k=0}^{N-1} p_{k,i} l_{k,i}(t)$, $\\quad$ $l_{k,i}= \\prod_{j=0, j\\neq i}^{d} \\frac{t-t_{k,j}}{t_{k,i}- t_{k,j}}$\n",
    "\n",
    "3. $P_k$ should satisfy initial condition: $P_k(t_k)= x_k$\n",
    "4. The collocation points satisfy state space equations, this converts into a ODE matrix $C$\n",
    "5. $P_k$ meets the end states\n"
   ],
   "metadata": {
    "collapsed": false,
    "pycharm": {
     "name": "#%% md\n"
    }
   }
  },
  {
   "cell_type": "code",
   "execution_count": null,
   "outputs": [],
   "source": [
    "d= 1                     # degree of interpolating polynomial\n",
    "collocate_points= np.append(0, ca.collocation_points(d,'legendre'))        #get collocation points\n",
    "\n",
    "B= np.zeros(d+1)            # Coefficients of the quadrature function\n",
    "C= np.zeros((d+1, d+1))     # Coefficients of the collocation equation\n",
    "D= np.zeros(d+1)            # Coefficients of the continuity equation\n",
    "\n",
    "# Construct Lagrange polynomials to get the polynomial basis at the collocation point\n",
    "for i in range (d+1):\n",
    "    p= np.poly1d([1])\n",
    "    for j in range (d+1):\n",
    "        if j != i:\n",
    "            p *= np.poly1d([1, -collocate_points[j]])/ (collocate_points[i]- collocate_points[j])\n",
    "\n",
    "    #Evaluate the polynomial at the final time to get the coefficients of the continuity equation\n",
    "    D[i]= p(1.0)\n",
    "\n",
    "    # Evaluate the time derivative of the polynomial at all collocation points to get the coefficients of the continuity equation\n",
    "    dp= np.polyder(p)\n",
    "    for j in range (d+1):\n",
    "        C[i,j]= dp(collocate_points[j])\n",
    "\n",
    "    # Evaluate the integral of the polynomial to get the coefficients of the quadrature function\n",
    "    intp= np.polyint(p)\n",
    "    B[i]= intp(1.0)"
   ],
   "metadata": {
    "collapsed": false,
    "pycharm": {
     "name": "#%%\n"
    }
   }
  },
  {
   "cell_type": "markdown",
   "source": [
    "$D= [L_1(1.0), L_2(1.0), L_3(1.0), L_4(1.0)]$\n",
    "\n",
    "$C= \\left[\n",
    "\\begin{matrix}\n",
    "    \\dot{L_0}(\\tau_0) & \\dot{L_0}(\\tau_1) & \\dot{L_0}(\\tau_2) & \\dot{L_0}(\\tau_3)\\\\\n",
    "    \\dot{L_1}(\\tau_0) & \\dot{L_1}(\\tau_1) & \\dot{L_1}(\\tau_2) & \\dot{L_1}(\\tau_3)\\\\\n",
    "    \\dot{L_2}(\\tau_0) & \\dot{L_2}(\\tau_1) & \\dot{L_2}(\\tau_2) & \\dot{L_2}(\\tau_3)\\\\\n",
    "    \\dot{L_3}(\\tau_0) & \\dot{L_3}(\\tau_1) & \\dot{L_3}(\\tau_2) & \\dot{L_3}(\\tau_3)\\\\\n",
    "\\end{matrix}\n",
    "\\right]$\n",
    "\n",
    "$B= [\\int L_1(1.0), \\int L_2(1.0), \\int L_3(1.0), \\int L_4(1.0)]$"
   ],
   "metadata": {
    "collapsed": false
   }
  },
  {
   "cell_type": "code",
   "execution_count": null,
   "outputs": [],
   "source": [
    "T= 10\n",
    "N= 20                   # number of control intervals\n",
    "h= T/N\n",
    "\n",
    "# Declare model variables\n",
    "x1 = ca.SX.sym('x1')\n",
    "x2 = ca.SX.sym('x2')\n",
    "x = ca.vertcat(x1, x2)\n",
    "u = ca.SX.sym('u')\n",
    "\n",
    "# Model states, state equations, objective function\n",
    "dx= ca.vertcat((1-x2**2)*x1 - x2 + u, x1)\n",
    "L= x1**2 + x2**2 + u**2\n",
    "f= ca.Function('f', [x, u], [dx, L], ['x', 'u'], ['dx', 'L'])       # Continuous time dynamics"
   ],
   "metadata": {
    "collapsed": false,
    "pycharm": {
     "name": "#%%\n"
    }
   }
  },
  {
   "cell_type": "code",
   "execution_count": null,
   "outputs": [],
   "source": [
    "# Start with an empty NLP\n",
    "w=[]\n",
    "w0= []\n",
    "lbw= []\n",
    "ubw= []\n",
    "lbg= []\n",
    "ubg= []\n",
    "J= 0\n",
    "g=[]\n",
    "x_plot = []\n",
    "u_plot = []\n",
    "\n",
    "Xk= ca.MX.sym('X0', x.size()[0])\n",
    "w.append(Xk)\n",
    "lbw.append([0, 1])\n",
    "ubw.append([0, 1])\n",
    "w0.append([0, 1])\n",
    "x_plot.append(Xk)"
   ],
   "metadata": {
    "collapsed": false,
    "pycharm": {
     "name": "#%%\n"
    }
   }
  },
  {
   "cell_type": "code",
   "execution_count": null,
   "outputs": [],
   "source": [
    "# Start to loop each segment\n",
    "for k in range (N):\n",
    "    Uk= ca.MX.sym('U_'+ str(k))\n",
    "    w.append(Uk)\n",
    "    lbw.append([-1])\n",
    "    ubw.append([1])\n",
    "    w0.append([0])\n",
    "    u_plot.append(Uk)\n",
    "\n",
    "    Xc= []\n",
    "    for j in range (d):\n",
    "        Xkj= ca.MX.sym('X_'+ str(k)+ '_'+ str(j), x.size()[0])\n",
    "        Xc.append(Xkj)\n",
    "        w.append(Xkj)\n",
    "        lbw.append([-0.25, -np.inf])\n",
    "        ubw.append([np.inf, np.inf])\n",
    "        w0.append([0, 0])\n",
    "\n",
    "    Xk_end= D[0]*Xk\n",
    "\n",
    "    for j in range (1, d+1):\n",
    "        xp= C[0, j]*Xk\n",
    "        for r in range(d):\n",
    "            xp += C[r+1, j]* Xc[r]\n",
    "\n",
    "        fj, qj= f(Xc[j-1], Uk)\n",
    "        g.append(h*fj- xp)\n",
    "        lbg.append([0, 0])\n",
    "        ubg.append([0, 0])\n",
    "\n",
    "        Xk_end= Xk_end+ D[j]* Xc[j-1]\n",
    "        J= J+ B[j]* qj* h\n",
    "\n",
    "    Xk= ca.MX.sym('X_'+ str(k+1), 2)\n",
    "    w.append(Xk)\n",
    "    lbw.append([-0.25, -np.inf])\n",
    "    ubw.append([np.inf,  np.inf])\n",
    "    w0.append([0, 0])\n",
    "    x_plot.append(Xk)\n",
    "\n",
    "    g.append(Xk_end-Xk)\n",
    "    lbg.append([0, 0])\n",
    "    ubg.append([0, 0])"
   ],
   "metadata": {
    "collapsed": false,
    "pycharm": {
     "name": "#%%\n"
    }
   }
  },
  {
   "cell_type": "code",
   "execution_count": null,
   "outputs": [],
   "source": [
    "w= ca.vertcat(*w)\n",
    "g = ca.vertcat(*g)\n",
    "x_plot = ca.horzcat(*x_plot)\n",
    "u_plot = ca.horzcat(*u_plot)\n",
    "w0 = np.concatenate(w0)\n",
    "lbw = np.concatenate(lbw)\n",
    "ubw = np.concatenate(ubw)\n",
    "lbg = np.concatenate(lbg)\n",
    "ubg = np.concatenate(ubg)\n",
    "\n",
    "prob= {'f': J, 'x': w, 'g': g}\n",
    "solver= ca.nlpsol('solver', 'ipopt', prob)\n",
    "\n",
    "trajectories= ca.Function('trajectories', [w], [x_plot, u_plot], ['w'], ['x', 'u'])\n",
    "sol= solver(x0=w0, lbx=lbw, ubx=ubw, lbg=lbg, ubg=ubg)\n",
    "x_opt, u_opt = trajectories(sol['x'])\n",
    "x_opt = x_opt.full() # to numpy array\n",
    "u_opt = u_opt.full() # to numpy array"
   ],
   "metadata": {
    "collapsed": false,
    "pycharm": {
     "name": "#%%\n"
    }
   }
  },
  {
   "cell_type": "code",
   "execution_count": null,
   "outputs": [],
   "source": [
    "# Plot the result\n",
    "tgrid = np.linspace(0, T, N+1)\n",
    "plt.figure(1)\n",
    "plt.clf()\n",
    "plt.plot(tgrid, x_opt[0], '--')\n",
    "plt.plot(tgrid, x_opt[1], '-')\n",
    "plt.step(tgrid, np.append(np.nan, u_opt[0]), '-.')\n",
    "plt.xlabel('t')\n",
    "plt.legend(['x1','x2','u'])\n",
    "plt.grid()\n",
    "plt.show()"
   ],
   "metadata": {
    "collapsed": false,
    "pycharm": {
     "name": "#%%\n"
    }
   }
  }
 ],
 "metadata": {
  "kernelspec": {
   "display_name": "Python 3",
   "language": "python",
   "name": "python3"
  },
  "language_info": {
   "codemirror_mode": {
    "name": "ipython",
    "version": 2
   },
   "file_extension": ".py",
   "mimetype": "text/x-python",
   "name": "python",
   "nbconvert_exporter": "python",
   "pygments_lexer": "ipython2",
   "version": "2.7.6"
  }
 },
 "nbformat": 4,
 "nbformat_minor": 0
}