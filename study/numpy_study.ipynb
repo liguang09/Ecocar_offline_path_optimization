{
 "cells": [
  {
   "cell_type": "code",
   "execution_count": 1,
   "metadata": {
    "collapsed": true
   },
   "outputs": [],
   "source": [
    "import numpy as np"
   ]
  },
  {
   "cell_type": "code",
   "execution_count": 2,
   "outputs": [],
   "source": [
    "a= np.array([[1,3,5,6,7,8], [8,9,4,6,2,1], [4,7,9,3,1,0]])"
   ],
   "metadata": {
    "collapsed": false,
    "pycharm": {
     "name": "#%%\n"
    }
   }
  },
  {
   "cell_type": "code",
   "execution_count": 3,
   "outputs": [
    {
     "name": "stdout",
     "output_type": "stream",
     "text": [
      "a.shape:  (3, 6)\n",
      "np.shape(a):  (3, 6)\n",
      "a.size:  18\n",
      "np.size(a):  18\n"
     ]
    }
   ],
   "source": [
    "print(\"a.shape: \", a.shape)\n",
    "print(\"np.shape(a): \", np.shape(a))\n",
    "print(\"a.size: \", a.size)\n",
    "print(\"np.size(a): \", np.size(a))"
   ],
   "metadata": {
    "collapsed": false,
    "pycharm": {
     "name": "#%%\n"
    }
   }
  },
  {
   "cell_type": "code",
   "execution_count": 10,
   "outputs": [
    {
     "name": "stdout",
     "output_type": "stream",
     "text": [
      "np.arange(3): [0 1 2]\n",
      "np.arange(3,8): [3 4 5 6 7]\n",
      "np.arange(3,8,0.5): [3.  3.5 4.  4.5 5.  5.5 6.  6.5 7.  7.5]\n"
     ]
    }
   ],
   "source": [
    "# np.arange()       return fixed step array\n",
    "print(\"np.arange(3):\", np.arange(3))\n",
    "print(\"np.arange(3,8):\", np.arange(3,8))             #assign start and end points\n",
    "print(\"np.arange(3,8,0.5):\", np.arange(3,8,0.5))     #assign the step, 0.5"
   ],
   "metadata": {
    "collapsed": false,
    "pycharm": {
     "name": "#%%\n"
    }
   }
  },
  {
   "cell_type": "code",
   "execution_count": 11,
   "outputs": [
    {
     "name": "stdout",
     "output_type": "stream",
     "text": [
      "before np.asarray: [(1, 2, 3), (4, 5, 6)]\n",
      "after np.asarray: [[1 2 3]\n",
      " [4 5 6]]\n"
     ]
    }
   ],
   "source": [
    "# np.asarray\n",
    "a= [(1,2,3), (4,5,6)]\n",
    "print(\"before np.asarray:\", a)\n",
    "a= np.asarray(a)\n",
    "print(\"after np.asarray:\", a)"
   ],
   "metadata": {
    "collapsed": false,
    "pycharm": {
     "name": "#%%\n"
    }
   }
  },
  {
   "cell_type": "code",
   "execution_count": 3,
   "outputs": [
    {
     "name": "stdout",
     "output_type": "stream",
     "text": [
      "a[0]: [1 3 5 6 7 8]\n"
     ]
    },
    {
     "ename": "TypeError",
     "evalue": "'numpy.ndarray' object is not callable",
     "output_type": "error",
     "traceback": [
      "\u001B[0;31m---------------------------------------------------------------------------\u001B[0m",
      "\u001B[0;31mTypeError\u001B[0m                                 Traceback (most recent call last)",
      "\u001B[0;32m<ipython-input-3-6e169d04001b>\u001B[0m in \u001B[0;36m<module>\u001B[0;34m\u001B[0m\n\u001B[1;32m      1\u001B[0m \u001B[0;31m# slice operation\u001B[0m\u001B[0;34m\u001B[0m\u001B[0;34m\u001B[0m\u001B[0;34m\u001B[0m\u001B[0m\n\u001B[1;32m      2\u001B[0m \u001B[0mprint\u001B[0m\u001B[0;34m(\u001B[0m\u001B[0;34m\"a[0]:\"\u001B[0m\u001B[0;34m,\u001B[0m \u001B[0ma\u001B[0m\u001B[0;34m[\u001B[0m\u001B[0;36m0\u001B[0m\u001B[0;34m]\u001B[0m\u001B[0;34m)\u001B[0m                \u001B[0;31m# elements in a row\u001B[0m\u001B[0;34m\u001B[0m\u001B[0;34m\u001B[0m\u001B[0m\n\u001B[0;32m----> 3\u001B[0;31m \u001B[0mprint\u001B[0m\u001B[0;34m(\u001B[0m\u001B[0;34m\"a(0):\"\u001B[0m\u001B[0;34m,\u001B[0m \u001B[0ma\u001B[0m\u001B[0;34m(\u001B[0m\u001B[0;36m0\u001B[0m\u001B[0;34m)\u001B[0m\u001B[0;34m)\u001B[0m\u001B[0;34m\u001B[0m\u001B[0;34m\u001B[0m\u001B[0m\n\u001B[0m\u001B[1;32m      4\u001B[0m \u001B[0mprint\u001B[0m\u001B[0;34m(\u001B[0m\u001B[0;34m\"a[:,0]:\"\u001B[0m\u001B[0;34m,\u001B[0m \u001B[0ma\u001B[0m\u001B[0;34m[\u001B[0m\u001B[0;34m:\u001B[0m\u001B[0;34m,\u001B[0m\u001B[0;36m0\u001B[0m\u001B[0;34m]\u001B[0m\u001B[0;34m)\u001B[0m            \u001B[0;31m# elements in a column\u001B[0m\u001B[0;34m\u001B[0m\u001B[0;34m\u001B[0m\u001B[0m\n\u001B[1;32m      5\u001B[0m \u001B[0mprint\u001B[0m\u001B[0;34m(\u001B[0m\u001B[0;34m\"a[0,0]:\"\u001B[0m\u001B[0;34m,\u001B[0m \u001B[0ma\u001B[0m\u001B[0;34m[\u001B[0m\u001B[0;36m0\u001B[0m\u001B[0;34m,\u001B[0m\u001B[0;36m0\u001B[0m\u001B[0;34m]\u001B[0m\u001B[0;34m)\u001B[0m            \u001B[0;31m# return element based on row and column index\u001B[0m\u001B[0;34m\u001B[0m\u001B[0;34m\u001B[0m\u001B[0m\n",
      "\u001B[0;31mTypeError\u001B[0m: 'numpy.ndarray' object is not callable"
     ]
    }
   ],
   "source": [
    "# slice operation\n",
    "print(\"a[0]:\", a[0])                # elements in a row\n",
    "# print(\"a(0):\", a(0)) -> error\n",
    "print(\"a[:,0]:\", a[:,0])            # elements in a column\n",
    "print(\"a[0,0]:\", a[0,0])            # return element based on row and column index\n",
    "print(\"a[-1,:]:\", a[-1,:])          # elements in last row\n",
    "print(\"a[:,-1]:\", a[:,-1])          # elements in last column\n",
    "print(\"a[-1]:\", a[-1])              # elements in last row\n",
    "print(\"a[:-1]:\", a[:-1])            # elements in first two rows, minus 1 row\n",
    "print(\"a[:-2]:\", a[:-2])            # elements in first row, minus 2 rows\n",
    "print(\"a[-1:]:\", a[-1:])            # elements in last row\n",
    "print(\"a[-2:]:\", a[-2:])"
   ],
   "metadata": {
    "collapsed": false,
    "pycharm": {
     "name": "#%%\n"
    }
   }
  },
  {
   "cell_type": "code",
   "execution_count": 45,
   "outputs": [
    {
     "name": "stdout",
     "output_type": "stream",
     "text": [
      "[[ 2  1]\n",
      " [ 2 -5]\n",
      " [ 1  2]\n",
      " [ 1 -4]\n",
      " [ 1 -1]]\n",
      "[ 5 29  5 17  2]\n"
     ]
    }
   ],
   "source": [
    "a= np.array([[1,3], [8,9]])\n",
    "b= np.array([[1, 8], [3, 9], [5, 4], [6, 6], [7, 2], [8,1]])\n",
    "\n",
    "# axis=0, [[y(i)- x(i)]]\n",
    "print(np.diff(b, axis=0))\n",
    "# axis=1, [[x(i+1)- x(i)], [y(i+1)-y(i)]]\n",
    "# print(np.diff(b, axis=1))\n",
    "\n",
    "print(np.sum(np.power(np.diff(b, axis=0),2),axis=1))"
   ],
   "metadata": {
    "collapsed": false,
    "pycharm": {
     "name": "#%%\n"
    }
   }
  },
  {
   "cell_type": "code",
   "execution_count": null,
   "outputs": [],
   "source": [
    "print(np.shape(b))\n",
    "c=np.vstack((b[-1:], b, b[:-1]))\n",
    "print(c)\n",
    "print(c[1:,0])\n",
    "print(c[:-1,0])"
   ],
   "metadata": {
    "collapsed": false,
    "pycharm": {
     "name": "#%%\n"
    }
   }
  },
  {
   "cell_type": "code",
   "execution_count": 35,
   "outputs": [
    {
     "name": "stdout",
     "output_type": "stream",
     "text": [
      "[2 3 4 5 6 7 8 9]\n",
      "[1 2 3 4 5 6 7 8]\n"
     ]
    }
   ],
   "source": [
    "s= np.array([1,2,3,4,5,6,7,8,9])\n",
    "print(s[1:])\n",
    "print(s[:-1])"
   ],
   "metadata": {
    "collapsed": false,
    "pycharm": {
     "name": "#%%\n"
    }
   }
  }
 ],
 "metadata": {
  "kernelspec": {
   "display_name": "Python 3",
   "language": "python",
   "name": "python3"
  },
  "language_info": {
   "codemirror_mode": {
    "name": "ipython",
    "version": 2
   },
   "file_extension": ".py",
   "mimetype": "text/x-python",
   "name": "python",
   "nbconvert_exporter": "python",
   "pygments_lexer": "ipython2",
   "version": "2.7.6"
  }
 },
 "nbformat": 4,
 "nbformat_minor": 0
}