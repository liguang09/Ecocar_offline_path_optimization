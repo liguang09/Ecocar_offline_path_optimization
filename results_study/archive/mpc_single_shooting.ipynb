{
 "cells": [
  {
   "cell_type": "code",
   "execution_count": 6,
   "metadata": {
    "collapsed": true
   },
   "outputs": [
    {
     "name": "stdout",
     "output_type": "stream",
     "text": [
      "inf\n"
     ]
    }
   ],
   "source": [
    "import casadi as ca\n",
    "import numpy as np\n",
    "import time\n"
   ]
  },
  {
   "cell_type": "code",
   "execution_count": 4,
   "outputs": [],
   "source": [
    "def shift_movement(T, t0, x0, u, f):\n",
    "\t# 小车运动到下一个位置\n",
    "    f_value = f(x0, u[:, 0])\n",
    "    st = x0 + T*f_value\n",
    "    # 时间增加\n",
    "    t = t0 + T\n",
    "    # 准备下一个估计的最优控制，因为u[:, 0]已经采纳，我们就简单地把后面的结果提前\n",
    "    u_end = ca.horzcat(u[:, 1:], u[:, -1])\n",
    "    return t, st, u_end.T"
   ],
   "metadata": {
    "collapsed": false,
    "pycharm": {
     "name": "#%%\n"
    }
   }
  },
  {
   "cell_type": "code",
   "execution_count": 3,
   "outputs": [],
   "source": [
    "T= 0.2\n",
    "N= 10\n",
    "rob_size= 0.3\n",
    "v_max= 0.6\n",
    "omega_max= np.pi/4\n",
    "\n",
    "# states\n",
    "x= ca.SX.sym('x')\n",
    "y= ca.SX.sym('y')\n",
    "theta= ca.SX.sym('theta')\n",
    "states= ca.vertcat(x, y, theta)\n",
    "num_states= states.size()[0]\n",
    "\n",
    "# control inputs\n",
    "v= ca.SX.sym('v')\n",
    "omega= ca.SX.sym('omega')\n",
    "u= ca.vertcat(v, omega)\n",
    "num_u= u.size()[0]\n",
    "\n",
    "#state equations\n",
    "dx= v* ca.cos(theta)\n",
    "dy= v* ca.sin(theta)\n",
    "dtheta= omega\n",
    "\n",
    "dstates= ca.vertcat(dx,dy,dtheta)\n",
    "\n",
    "f= ca.Function('f', [states,u], [dstates], ['states', 'u'], ['dstates'])"
   ],
   "metadata": {
    "collapsed": false,
    "pycharm": {
     "name": "#%%\n"
    }
   }
  },
  {
   "cell_type": "code",
   "execution_count": 16,
   "outputs": [],
   "source": [
    "U= ca.SX.sym('U', num_u, N)\n",
    "X= ca.SX.sym('X', num_states, N+1)\n",
    "P= ca.SX.sym('P', num_states+num_states)\n",
    "\n",
    "X[:, 0]= P[: 3]\n",
    "\n",
    "for i in range(N):\n",
    "    f_now= f(X[:,i], U[:,i])\n",
    "    X[:, i+1]= f_now+ X[:, i]\n",
    "\n",
    "ff= ca.Function('ff', [U, P], [X], ['input_U', 'target_P'], ['states_X'])\n",
    "\n",
    "Q = np.array([[1.0, 0.0, 0.0],[0.0, 5.0, 0.0],[0.0, 0.0, .1]])\n",
    "R = np.array([[0.5, 0.0], [0.0, 0.05]])\n",
    "\n",
    "obj= 0\n",
    "for i in range (N):\n",
    "    obj+= ca.mtimes([(X[:,i]- P[3:]).T, Q, X[:,i]- P[3:]])+ ca.mtimes([U[:, i].T, R, U[:, i]])\n",
    "\n",
    "g=[]\n",
    "for i in range (N+1):\n",
    "    g.append(X[0, i])\n",
    "    g.append(X[1, i])\n",
    "\n",
    "nlp_prob = {'f': obj, 'x': ca.reshape(U, -1, 1), 'p':P, 'g':ca.vertcat(*g)}\n",
    "\n",
    "opts_setting = {'ipopt.max_iter':100,\n",
    "                'ipopt.print_level':0,\n",
    "                'print_time':0,\n",
    "                'ipopt.acceptable_tol':1e-8,\n",
    "                'ipopt.acceptable_obj_change_tol':1e-6}\n",
    "\n",
    "solver = ca.nlpsol('solver', 'ipopt', nlp_prob, opts_setting)"
   ],
   "metadata": {
    "collapsed": false,
    "pycharm": {
     "name": "#%%\n"
    }
   }
  },
  {
   "cell_type": "code",
   "execution_count": 20,
   "outputs": [
    {
     "name": "stdout",
     "output_type": "stream",
     "text": [
      "\n",
      "******************************************************************************\n",
      "This program contains Ipopt, a library for large-scale nonlinear optimization.\n",
      " Ipopt is released as open source code under the Eclipse Public License (EPL).\n",
      "         For more information visit http://projects.coin-or.org/Ipopt\n",
      "******************************************************************************\n",
      "\n"
     ]
    },
    {
     "ename": "NameError",
     "evalue": "name 'shift_movement' is not defined",
     "output_type": "error",
     "traceback": [
      "\u001B[0;31m---------------------------------------------------------------------------\u001B[0m",
      "\u001B[0;31mNameError\u001B[0m                                 Traceback (most recent call last)",
      "\u001B[0;32m<ipython-input-20-61b755021039>\u001B[0m in \u001B[0;36m<module>\u001B[0;34m\u001B[0m\n\u001B[1;32m     46\u001B[0m     \u001B[0mt_c\u001B[0m\u001B[0;34m.\u001B[0m\u001B[0mappend\u001B[0m\u001B[0;34m(\u001B[0m\u001B[0mt0\u001B[0m\u001B[0;34m)\u001B[0m\u001B[0;34m\u001B[0m\u001B[0;34m\u001B[0m\u001B[0m\n\u001B[1;32m     47\u001B[0m     \u001B[0;31m### 根据数学模型和MPC计算的结果移动小车并且准备好下一个循环的初始化目标\u001B[0m\u001B[0;34m\u001B[0m\u001B[0;34m\u001B[0m\u001B[0;34m\u001B[0m\u001B[0m\n\u001B[0;32m---> 48\u001B[0;31m     \u001B[0mt0\u001B[0m\u001B[0;34m,\u001B[0m \u001B[0mx0\u001B[0m\u001B[0;34m,\u001B[0m \u001B[0mu0\u001B[0m \u001B[0;34m=\u001B[0m \u001B[0mshift_movement\u001B[0m\u001B[0;34m(\u001B[0m\u001B[0mT\u001B[0m\u001B[0;34m,\u001B[0m \u001B[0mt0\u001B[0m\u001B[0;34m,\u001B[0m \u001B[0mx0\u001B[0m\u001B[0;34m,\u001B[0m \u001B[0mu_sol\u001B[0m\u001B[0;34m,\u001B[0m \u001B[0mf\u001B[0m\u001B[0;34m)\u001B[0m\u001B[0;34m\u001B[0m\u001B[0;34m\u001B[0m\u001B[0m\n\u001B[0m\u001B[1;32m     49\u001B[0m         \u001B[0;31m### 存储小车的位置\u001B[0m\u001B[0;34m\u001B[0m\u001B[0;34m\u001B[0m\u001B[0;34m\u001B[0m\u001B[0m\n\u001B[1;32m     50\u001B[0m     \u001B[0mx0\u001B[0m \u001B[0;34m=\u001B[0m \u001B[0mca\u001B[0m\u001B[0;34m.\u001B[0m\u001B[0mreshape\u001B[0m\u001B[0;34m(\u001B[0m\u001B[0mx0\u001B[0m\u001B[0;34m,\u001B[0m \u001B[0;34m-\u001B[0m\u001B[0;36m1\u001B[0m\u001B[0;34m,\u001B[0m \u001B[0;36m1\u001B[0m\u001B[0;34m)\u001B[0m\u001B[0;34m\u001B[0m\u001B[0;34m\u001B[0m\u001B[0m\n",
      "\u001B[0;31mNameError\u001B[0m: name 'shift_movement' is not defined"
     ]
    }
   ],
   "source": [
    "lb_g= -2.0\n",
    "ub_g= 2.0\n",
    "\n",
    "lb_u=[]\n",
    "ub_u=[]\n",
    "\n",
    "for _ in range (N):\n",
    "    lb_u.append(-v_max)\n",
    "    lb_u.append(-omega_max)\n",
    "    ub_u.append(v_max)\n",
    "    ub_u.append(omega_max)\n",
    "\n",
    "t0= 0.0\n",
    "x0= np.array([0.0, 0.0, 0.0]).reshape(-1, 1)\n",
    "u0= np.array([0.0, 0.0]*N).reshape(-1, 2)\n",
    "xs= np.array([1.5, 1.5, 0.0]).reshape(-1, 1)\n",
    "\n",
    "x_c = [] # 存储系统的状态\n",
    "u_c = [] # 存储控制全部计算后的控制指令\n",
    "t_c = [] # 保存时间\n",
    "xx = [] # 存储每一步机器人位置\n",
    "sim_time = 20.0 # 仿真时长\n",
    "index_t = [] # 存储时间戳，以便计算每一步求解的时间\n",
    "\n",
    "## 开始仿真\n",
    "mpciter = 0 # 迭代计数器\n",
    "start_time = time.time() # 获取开始仿真时间\n",
    "\n",
    "### 终止条件为小车和目标的欧式距离小于0.01或者仿真超时\n",
    "while(np.linalg.norm(x0-xs)>1e-2 and mpciter-sim_time/T<0.0 ):\n",
    "    ### 初始化优化参数\n",
    "    c_p = np.concatenate((x0, xs))\n",
    "    ### 初始化优化目标变量\n",
    "    init_control = ca.reshape(u0, -1, 1)\n",
    "    ### 计算结果并且\n",
    "    t_ = time.time()\n",
    "    res = solver(x0=init_control, p=c_p, lbg=lb_g, lbx=lb_u, ubg=ub_g, ubx=ub_u)\n",
    "    index_t.append(time.time()- t_)\n",
    "    ### 获得最优控制结果u\n",
    "    u_sol = ca.reshape(res['x'], num_u, N) # 记住将其恢复U的形状定义\n",
    "    ###\n",
    "    ff_value = ff(u_sol, c_p) # 利用之前定义ff函数获得根据优化后的结果\n",
    "        \t\t\t\t\t\t  # 小车之后N+1步后的状态（n_states, N+1）\n",
    "    ### 存储结果\n",
    "    x_c.append(ff_value)\n",
    "    u_c.append(u_sol[:, 0])\n",
    "    t_c.append(t0)\n",
    "\n",
    "    ### 根据数学模型和MPC计算的结果移动小车并且准备好下一个循环的初始化目标\n",
    "    t0, x0, u0 = shift_movement(T, t0, x0, u_sol, f)\n",
    "\n",
    "\t### 存储小车的位置\n",
    "    x0 = ca.reshape(x0, -1, 1)\n",
    "    xx.append(x0.full())\n",
    "    ### 计数器+1\n",
    "    mpciter = mpciter + 1\n",
    "\n",
    "\n",
    "\n"
   ],
   "metadata": {
    "collapsed": false,
    "pycharm": {
     "name": "#%%\n"
    }
   }
  }
 ],
 "metadata": {
  "kernelspec": {
   "display_name": "Python 3",
   "language": "python",
   "name": "python3"
  },
  "language_info": {
   "codemirror_mode": {
    "name": "ipython",
    "version": 2
   },
   "file_extension": ".py",
   "mimetype": "text/x-python",
   "name": "python",
   "nbconvert_exporter": "python",
   "pygments_lexer": "ipython2",
   "version": "2.7.6"
  }
 },
 "nbformat": 4,
 "nbformat_minor": 0
}